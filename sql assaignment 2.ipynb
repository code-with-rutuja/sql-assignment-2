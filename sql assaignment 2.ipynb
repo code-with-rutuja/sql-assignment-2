{
 "cells": [
  {
   "cell_type": "code",
   "execution_count": 2,
   "id": "47c6c890",
   "metadata": {},
   "outputs": [
    {
     "ename": "SyntaxError",
     "evalue": "Missing parentheses in call to 'print'. Did you mean print(...)? (221184029.py, line 24)",
     "output_type": "error",
     "traceback": [
      "\u001b[1;36m  Cell \u001b[1;32mIn[2], line 24\u001b[1;36m\u001b[0m\n\u001b[1;33m    print org\u001b[0m\n\u001b[1;37m    ^\u001b[0m\n\u001b[1;31mSyntaxError\u001b[0m\u001b[1;31m:\u001b[0m Missing parentheses in call to 'print'. Did you mean print(...)?\n"
     ]
    }
   ],
   "source": [
    "import re\n",
    "import sqlite3\n",
    "\n",
    "\n",
    "\n",
    "conn = sqlite3.connect('emaildb.sqlite')\n",
    "cur = conn.cursor()\n",
    "\n",
    "cur.execute('''\n",
    "DROP TABLE IF EXISTS Counts''')\n",
    "\n",
    "cur.execute('''\n",
    "CREATE TABLE Counts (org TEXT, count INTEGER)''')\n",
    "\n",
    "fname = raw_input('Enter file name: ')\n",
    "if ( len(fname)< 1 ): fname = 'mbox.txt'\n",
    "fh = open(fname)\n",
    "for line in fh:\n",
    "        if not line.startswitch('From: ') : continue\n",
    "        pieces = line.split()[1]\n",
    "        org = pieces.split('@')[1]\n",
    "        \n",
    "        \n",
    "        print org\n",
    "        cur.execute('SELECT count FROM Counts WHERE org = ?', (org,))\n",
    "        row = cur.fetchone()\n",
    "        if row is None:\n",
    "                cur.execute('''INSERT INTO Counts (org, count)\n",
    "                                VALUES (? , 1)''', (org, ) )\n",
    "        else :\n",
    "                cur.execute('UPDATE Counts SET count=count+1 WHERE org = ?',\n",
    "                        (org, ))\n",
    "                \n",
    "conn.commit()\n",
    "\n",
    "\n",
    "sqlstr = 'SELECT org, count FROM Counts ORDER BY count DESC LIMIT 10'\n",
    "\n",
    "print\n",
    "print \"Counts:\"\n",
    "for row in cur.execute(sqlstr) :\n",
    "    print str(row[0]), row[1]\n",
    "    \n",
    "cur.close()"
   ]
  },
  {
   "cell_type": "code",
   "execution_count": null,
   "id": "f57b590a",
   "metadata": {},
   "outputs": [],
   "source": [
    "import sqlite3\n",
    "\n",
    "conn = sqlite3.connect('emaildb.sqlite')\n",
    "cur = conn.cursor()\n",
    "\n",
    "cur.execute"
   ]
  }
 ],
 "metadata": {
  "kernelspec": {
   "display_name": "Python 3 (ipykernel)",
   "language": "python",
   "name": "python3"
  },
  "language_info": {
   "codemirror_mode": {
    "name": "ipython",
    "version": 3
   },
   "file_extension": ".py",
   "mimetype": "text/x-python",
   "name": "python",
   "nbconvert_exporter": "python",
   "pygments_lexer": "ipython3",
   "version": "3.11.4"
  }
 },
 "nbformat": 4,
 "nbformat_minor": 5
}
